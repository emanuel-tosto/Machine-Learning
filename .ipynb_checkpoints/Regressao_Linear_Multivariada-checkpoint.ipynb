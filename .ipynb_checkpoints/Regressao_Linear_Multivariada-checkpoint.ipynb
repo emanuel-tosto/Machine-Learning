{
 "cells": [
  {
   "cell_type": "code",
   "execution_count": 1,
   "metadata": {},
   "outputs": [],
   "source": [
    "import pandas as pd\n",
    "import numpy as np\n",
    "import matplotlib.pyplot as plt"
   ]
  },
  {
   "cell_type": "code",
   "execution_count": 2,
   "metadata": {},
   "outputs": [],
   "source": [
    "def tratando_dados(filename):\n",
    "    dataset = pd.read_csv(filename,delimiter='\\t')\n",
    "    return dataset"
   ]
  },
  {
   "cell_type": "code",
   "execution_count": 3,
   "metadata": {},
   "outputs": [
    {
     "name": "stdout",
     "output_type": "stream",
     "text": [
      "[[  4.38670700e+04   6.33067550e+07   4.64656988e+08]\n",
      " [  9.47160000e+02   3.03639000e+03   5.31114307e+07]\n",
      " [  8.13700000e+01   3.63344305e+07   1.77361096e+08]\n",
      " ..., \n",
      " [  1.85198600e+04   1.89040000e+03   1.12800000e+01]\n",
      " [  1.06600000e+01   3.05975000e+03   1.12300000e+01]\n",
      " [  1.69137000e+04   1.01367000e+03   1.15664900e+04]]\n"
     ]
    }
   ],
   "source": [
    "#Carregando os dados e preenchendo campos vazios\n",
    "dataset = tratando_dados(\"BRAZIL_CITIES.csv\")\n",
    "dataset[\"WAL-MART\"] = dataset[\"WAL-MART\"].fillna(0)\n",
    "dataset[\"MAC\"] = dataset[\"MAC\"].fillna(0)\n",
    "Y = pd.DataFrame(dataset, columns = [\"GVA_AGROPEC\", \"GVA_INDUSTRY\",\"GVA_SERVICES\"])\n",
    "dataset = dataset.drop([\"GVA_AGROPEC\"], axis=1)\n",
    "dataset = dataset.drop([\"GVA_INDUSTRY\"], axis=1)\n",
    "dataset = dataset.drop([\"GVA_SERVICES\"], axis=1)\n",
    "X = pd.DataFrame(dataset)\n",
    "Y[\"GVA_AGROPEC\"] = Y[\"GVA_AGROPEC\"].astype(float)\n",
    "Y[\"GVA_AGROPEC\"] = Y[\"GVA_AGROPEC\"].astype(float)\n",
    "Y[\"GVA_SERVICES\"] = Y[\"GVA_SERVICES\"].astype(float)\n",
    "print(Y)"
   ]
  },
  {
   "cell_type": "code",
   "execution_count": 4,
   "metadata": {},
   "outputs": [
    {
     "ename": "IndexError",
     "evalue": "only integers, slices (`:`), ellipsis (`...`), numpy.newaxis (`None`) and integer or boolean arrays are valid indices",
     "output_type": "error",
     "traceback": [
      "\u001b[0;31m---------------------------------------------------------------------------\u001b[0m",
      "\u001b[0;31mIndexError\u001b[0m                                Traceback (most recent call last)",
      "\u001b[0;32m<ipython-input-4-45b022eb0fd8>\u001b[0m in \u001b[0;36m<module>\u001b[0;34m()\u001b[0m\n\u001b[1;32m      1\u001b[0m \u001b[0;31m#PERFEITO\u001b[0m\u001b[0;34m\u001b[0m\u001b[0;34m\u001b[0m\u001b[0m\n\u001b[0;32m----> 2\u001b[0;31m \u001b[0mplt\u001b[0m\u001b[0;34m.\u001b[0m\u001b[0mscatter\u001b[0m\u001b[0;34m(\u001b[0m\u001b[0mY\u001b[0m\u001b[0;34m[\u001b[0m\u001b[0;34m'GVA_SERVICES'\u001b[0m\u001b[0;34m]\u001b[0m\u001b[0;34m,\u001b[0m\u001b[0mX\u001b[0m\u001b[0;34m[\u001b[0m\u001b[0;34m'FIXED_PHONES'\u001b[0m\u001b[0;34m]\u001b[0m\u001b[0;34m,\u001b[0m \u001b[0mcolor\u001b[0m\u001b[0;34m=\u001b[0m\u001b[0;34m'red'\u001b[0m\u001b[0;34m)\u001b[0m\u001b[0;34m\u001b[0m\u001b[0m\n\u001b[0m\u001b[1;32m      3\u001b[0m \u001b[0mplt\u001b[0m\u001b[0;34m.\u001b[0m\u001b[0mtitle\u001b[0m\u001b[0;34m(\u001b[0m\u001b[0;34m'GVA_SERVICES Vs FIXED_PHONES'\u001b[0m\u001b[0;34m,\u001b[0m \u001b[0mfontsize\u001b[0m\u001b[0;34m=\u001b[0m\u001b[0;36m20\u001b[0m\u001b[0;34m)\u001b[0m\u001b[0;34m\u001b[0m\u001b[0m\n\u001b[1;32m      4\u001b[0m \u001b[0mplt\u001b[0m\u001b[0;34m.\u001b[0m\u001b[0mxlabel\u001b[0m\u001b[0;34m(\u001b[0m\u001b[0;34m'GVA_SERVICES'\u001b[0m\u001b[0;34m,\u001b[0m \u001b[0mfontsize\u001b[0m\u001b[0;34m=\u001b[0m\u001b[0;36m20\u001b[0m\u001b[0;34m)\u001b[0m\u001b[0;34m\u001b[0m\u001b[0m\n\u001b[1;32m      5\u001b[0m \u001b[0mplt\u001b[0m\u001b[0;34m.\u001b[0m\u001b[0mylabel\u001b[0m\u001b[0;34m(\u001b[0m\u001b[0;34m'FIXED_PHONES'\u001b[0m\u001b[0;34m,\u001b[0m \u001b[0mfontsize\u001b[0m\u001b[0;34m=\u001b[0m\u001b[0;36m20\u001b[0m\u001b[0;34m)\u001b[0m\u001b[0;34m\u001b[0m\u001b[0m\n",
      "\u001b[0;31mIndexError\u001b[0m: only integers, slices (`:`), ellipsis (`...`), numpy.newaxis (`None`) and integer or boolean arrays are valid indices"
     ]
    }
   ],
   "source": [
    "#PERFEITO\n",
    "plt.scatter(Y['GVA_SERVICES'],X['FIXED_PHONES'], color='red')\n",
    "plt.title('GVA_SERVICES Vs FIXED_PHONES', fontsize=20)\n",
    "plt.xlabel('GVA_SERVICES', fontsize=20)\n",
    "plt.ylabel('FIXED_PHONES', fontsize=20)\n",
    "plt.grid(True)\n",
    "plt.show()\n",
    "\n",
    "#PERFEITO\n",
    "plt.scatter(Y['GVA_SERVICES'],X['POST_OFFICES'], color='red')\n",
    "plt.title('GVA_SERVICES Vs POST_OFFICES', fontsize=20)\n",
    "plt.xlabel('GVA_INDUSTRY', fontsize=20)\n",
    "plt.ylabel('POST_OFFICES', fontsize=20)\n",
    "plt.grid(True)\n",
    "plt.show()\n",
    "\n",
    "#PERFEITO\n",
    "plt.scatter(Y['GVA_INDUSTRY'],X['Cars'], color='red')\n",
    "plt.title('GVA_INDUSTRY Vs Cars', fontsize=20)\n",
    "plt.xlabel('GVA_INDUSTRY', fontsize=20)\n",
    "plt.ylabel('Cars', fontsize=20)\n",
    "plt.grid(True)\n",
    "plt.show()\n",
    "\n",
    "#PERFEITO\n",
    "plt.scatter(Y['GVA_SERVICES'],X['IDHM_Educacao'], color='red')\n",
    "plt.title('GVA_SERVICES Vs V', fontsize=20)\n",
    "plt.xlabel('GVA_INDUSTRY', fontsize=20)\n",
    "plt.ylabel('IDHM_Educacao', fontsize=20)\n",
    "plt.grid(True)\n",
    "plt.show()"
   ]
  },
  {
   "cell_type": "code",
   "execution_count": null,
   "metadata": {},
   "outputs": [],
   "source": []
  }
 ],
 "metadata": {
  "kernelspec": {
   "display_name": "Python 2",
   "language": "python",
   "name": "python2"
  },
  "language_info": {
   "codemirror_mode": {
    "name": "ipython",
    "version": 2
   },
   "file_extension": ".py",
   "mimetype": "text/x-python",
   "name": "python",
   "nbconvert_exporter": "python",
   "pygments_lexer": "ipython2",
   "version": "2.7.15"
  }
 },
 "nbformat": 4,
 "nbformat_minor": 2
}
