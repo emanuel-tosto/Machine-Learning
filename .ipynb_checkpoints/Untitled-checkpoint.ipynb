{
 "cells": [
  {
   "cell_type": "code",
   "execution_count": 1,
   "metadata": {},
   "outputs": [],
   "source": [
    "#https://archive.ics.uci.edu/ml/datasets/energy+efficiency\n",
    "import pandas as pd \n",
    "import numpy as np\n",
    "from numpy.linalg import inv"
   ]
  },
  {
   "cell_type": "code",
   "execution_count": 3,
   "metadata": {},
   "outputs": [],
   "source": [
    "data = pd.read_excel('ENB2012_data.xlsx',index=0) \n",
    "colums = (data.columns[0])"
   ]
  },
  {
   "cell_type": "code",
   "execution_count": 4,
   "metadata": {},
   "outputs": [],
   "source": [
    "max= [data[c].max() for c in data.columns] \n",
    "min= [data[c].min() for c in data.columns]"
   ]
  },
  {
   "cell_type": "code",
   "execution_count": 5,
   "metadata": {},
   "outputs": [],
   "source": [
    "i=0\n",
    "for c in data.columns:\n",
    "    while(i<len(data.columns)): \n",
    "        data[c]=(data[c]-min[i])/(max[i]-min[i])\n",
    "        i=i+1\n",
    "        break\n"
   ]
  },
  {
   "cell_type": "code",
   "execution_count": 17,
   "metadata": {},
   "outputs": [
    {
     "name": "stdout",
     "output_type": "stream",
     "text": [
      "<class 'pandas.core.frame.DataFrame'>\n",
      "768\n"
     ]
    }
   ],
   "source": [
    "arr = data.values\n",
    "print(type(data))\n",
    "x_train=[]\n",
    "y1=[]\n",
    "y2=[]\n",
    "a=data.shape\n",
    "print(a[0])\n",
    "for i in range(a[0]):                      \n",
    "    x_train.append((arr[i][:-2]).tolist())\n",
    "    y2.append(arr[i][-1])\n",
    "    y1.append(arr[i][-2])"
   ]
  },
  {
   "cell_type": "code",
   "execution_count": 7,
   "metadata": {},
   "outputs": [],
   "source": [
    "m=np.ones((768,1))\n",
    "b=np.matrix(x_train)\n",
    "b=np.concatenate((m,b),axis=1)     \n",
    "d=b.T\n",
    "e=np.linalg.inv(np.matmul(d,b))\n",
    "y1=np.matrix(y1)\n",
    "y1=y1.T\n",
    "y2=np.matrix(y2)\n",
    "y2=y2.T\n",
    "f=np.matmul(e,d)\n",
    "c1=np.matmul(f,y1)\n",
    "c2=np.matmul(f,y2)"
   ]
  },
  {
   "cell_type": "code",
   "execution_count": 20,
   "metadata": {},
   "outputs": [
    {
     "name": "stdout",
     "output_type": "stream",
     "text": [
      "Enter Value:1\n",
      "Enter Value:2\n",
      "Enter Value:3\n",
      "Enter Value:4\n",
      "Enter Value:5\n",
      "Enter Value:6\n",
      "Enter Value:78\n",
      "Enter Value:8\n",
      "1\n",
      "1.05555555556\n",
      "-1.74319727891\n",
      "-1.4110787172\n",
      "-0.963718820862\n",
      "0.428571428571\n",
      "1.33333333333\n",
      "195.0\n",
      "[[1], [1.0555555555555556], [-1.7431972789115646], [-1.4110787172011663], [-0.96371882086167804], [0.42857142857142855], [1.3333333333333333], [195.0], [1.6]]\n",
      "<type 'list'>\n",
      "[[1], [1.0555555555555556], [-1.7431972789115646], [-1.4110787172011663], [-0.96371882086167804], [0.42857142857142855], [1.3333333333333333], [195.0], [1.6]]\n",
      "<type 'list'>\n"
     ]
    }
   ],
   "source": [
    "  x_test=[[1],]\n",
    "for j in range (8):\n",
    "    inp=[float(input(\"Enter Value:\"))]\n",
    "    x_test.append(inp)\n",
    "for i in range(8):\n",
    "    print(x_test[i][0])\n",
    "    x_test[i+1][0]=(x_test[i+1][0]-min[i])/(max[i]-min[i])\n",
    "\n",
    "x_test=np.matrix(x_test)\n",
    "print(x_test)\n",
    "Y1=np.matmul(c1.T,x_test)\n",
    "Y2=np.matmul(c2.T,x_test)"
   ]
  },
  {
   "cell_type": "code",
   "execution_count": 9,
   "metadata": {},
   "outputs": [
    {
     "name": "stdout",
     "output_type": "stream",
     "text": [
      "[[ 808.68176939]]\n",
      "[[ 583.83225891]]\n"
     ]
    }
   ],
   "source": [
    "print(Y1*(max[-2]-min[-2])+min[-2])\n",
    "print((Y2*(max[-1]-min[-1]))+min[-1])"
   ]
  },
  {
   "cell_type": "code",
   "execution_count": null,
   "metadata": {},
   "outputs": [],
   "source": []
  }
 ],
 "metadata": {
  "kernelspec": {
   "display_name": "Python 2",
   "language": "python",
   "name": "python2"
  },
  "language_info": {
   "codemirror_mode": {
    "name": "ipython",
    "version": 2
   },
   "file_extension": ".py",
   "mimetype": "text/x-python",
   "name": "python",
   "nbconvert_exporter": "python",
   "pygments_lexer": "ipython2",
   "version": "2.7.15"
  }
 },
 "nbformat": 4,
 "nbformat_minor": 2
}
