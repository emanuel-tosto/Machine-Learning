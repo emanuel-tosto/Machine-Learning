{
 "cells": [
  {
   "cell_type": "code",
   "execution_count": null,
   "metadata": {},
   "outputs": [],
   "source": [
    "import numpy as np\n",
    "import matplotlib.pyplot as plt\n",
    "import pandas as pd\n",
    "from mpl_toolkits.mplot3d import Axes3D\n",
    "import common as com\n",
    "\n",
    "def Gradiente_Descendente(x, y, num_epochs, alpha, w, poly_order=1, lamb=None, build_regressors=True):\n",
    "    xn = np.concatenate((ones, x), axis=1)\n",
    "    mse = []\n",
    "    for cont in range num_epochs:\n",
    "        prev = xn @ w\n",
    "        error = y - prev\n",
    "        w += alpha * (np.mean(error[:, None] * xn, axis=0))\n",
    "        mse.append(np.mean(error**2))\n",
    "    return {'w': w, 'mse_history': mse_history}\n",
    "\n",
    "def sign(z):\n",
    "    z_array = [1]\n",
    "    return 1/(1+np.exp(z_array))\n",
    "\n",
    "def MLP(x, y, x_validation=None, y_validation=None,num_hidden_nodes=10, activation=\"relu\", output=\"regression\",\n",
    "        num_epochs=100, alpha=1, mini_batch_size=1, momentum=0, weight_decay=0,build_regressors=True, compute_loss=True):\n",
    "   \n",
    "\n",
    "    \n",
    "\n"
   ]
  }
 ],
 "metadata": {
  "kernelspec": {
   "display_name": "Python 2",
   "language": "python",
   "name": "python2"
  },
  "language_info": {
   "codemirror_mode": {
    "name": "ipython",
    "version": 2
   },
   "file_extension": ".py",
   "mimetype": "text/x-python",
   "name": "python",
   "nbconvert_exporter": "python",
   "pygments_lexer": "ipython2",
   "version": "2.7.16"
  }
 },
 "nbformat": 4,
 "nbformat_minor": 2
}
